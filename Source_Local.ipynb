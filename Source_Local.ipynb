{
 "cells": [
  {
   "cell_type": "markdown",
   "metadata": {},
   "source": [
    "# Source Localization using Distributed Sensors\n",
    " **(Final version will read directly from Pyserial and data will be collected at higher sampling rate)**"
   ]
  },
  {
   "cell_type": "markdown",
   "metadata": {},
   "source": [
    "The first thing I need is a position matrix for all the sensors. The reason to start from a position matrix and not a distance matrix is because this algorithm can be adapted to a scenario where the sensors are not in a static position. I will record those positions in a dictionary using as relative position the position of sensor 1."
   ]
  },
  {
   "cell_type": "code",
   "execution_count": 2,
   "metadata": {},
   "outputs": [
    {
     "data": {
      "text/html": [
       "<img src=\"sensors.jpg\" alt=\"Drawing\" style=\"width: 500px;\" align= \"middle\">"
      ],
      "text/plain": [
       "<IPython.core.display.HTML object>"
      ]
     },
     "metadata": {},
     "output_type": "display_data"
    }
   ],
   "source": [
    "%%html\n",
    "<img src=\"sensors.jpg\" alt=\"Drawing\" style=\"width: 500px;\" align= \"middle\">"
   ]
  },
  {
   "cell_type": "code",
   "execution_count": 3,
   "metadata": {
    "collapsed": true
   },
   "outputs": [],
   "source": [
    "import numpy as np\n",
    "import scipy\n",
    "from matplotlib import pyplot\n",
    "from scipy import signal\n",
    "from collections import deque\n",
    "from multiprocessing import Pool"
   ]
  },
  {
   "cell_type": "code",
   "execution_count": 4,
   "metadata": {},
   "outputs": [
    {
     "name": "stdout",
     "output_type": "stream",
     "text": [
      "{1: [0, 0], 2: [0, 10], 3: [0, 20], 4: [15, 0], 5: [15, 10], 6: [15, 20], 7: [30, 0], 8: [30, 10], 9: [30, 20], 10: [45, 0], 11: [45, 10], 12: [45, 20]}\n"
     ]
    }
   ],
   "source": [
    "def R_dictionary(sensor, Hash):\n",
    "    Hash.update(sensor)\n",
    "\n",
    "#Growing my Position dictionary:\n",
    "Hash={}\n",
    "k=0\n",
    "for j in np.array([0, 15, 30, 45]):\n",
    "    for i in np.array([0, 10, 20]):\n",
    "        k=k+1\n",
    "        R_dictionary({k: [j, i]}, Hash)\n",
    "print(Hash)"
   ]
  },
  {
   "cell_type": "markdown",
   "metadata": {},
   "source": [
    "Now, I want to create a relative distance matrix by computing the Euclidean distance between each sensor. "
   ]
  },
  {
   "cell_type": "code",
   "execution_count": 5,
   "metadata": {},
   "outputs": [
    {
     "data": {
      "image/png": "[encoded data removed]",
      "text/plain": [
       "<matplotlib.figure.Figure at 0x10a787fd0>"
      ]
     },
     "metadata": {},
     "output_type": "display_data"
    }
   ],
   "source": [
    "Rel_Pos= np.zeros((len(Hash), len(Hash)))\n",
    "for i in  np.arange(len(Hash)):\n",
    "    for j in np.arange(len(Hash)):\n",
    "        Rel_Pos[i][j]= ((Hash[i+1][0] - Hash[j+1][0])**2 + (Hash[i+1][1] - Hash[j+1][1])**2)**(1./2.)\n",
    "pyplot.spy(Rel_Pos)\n",
    "pyplot.show()"
   ]
  },
  {
   "cell_type": "markdown",
   "metadata": {},
   "source": [
    "TO DO:\n",
    "* ~~ Import the data and parse it~~\n",
    "* Make a routine that decomposes the signal at level 1: s= a1+d1\n",
    "* Use d1 to determine if there is an event if there is no event, don't do anything. If there is an event, fire the algorithm and record the time in which the event happened (t!)\n",
    "* With the data identify the ones that got highest frequency at t!\n",
    "* Assign probabilities to each sensor\n",
    "* Do the triangulization method"
   ]
  },
  {
   "cell_type": "code",
   "execution_count": 32,
   "metadata": {},
   "outputs": [],
   "source": [
    "def Event(Window, sensor_index):\n",
    "    #Module for Anomaly Detection\n",
    "    #For CSCI 5363, I will use a Fast Fourier Transform for this module\n",
    "    #For CNN purposes, this module will be equivalent to the convolutional layer in a neural network\n",
    "    return yesno\n",
    "\n",
    "def SourceLoc(s1, s2, s3):\n",
    "    # This is the actual routine that will do the source localization given three sensors and time of arrival\n",
    "    \n",
    "    return local\n",
    "\n",
    "def Breeding(all_sensors):\n",
    "    #This function will be called by each sensor every time there is an event in order\n",
    "    #to be paired with two of the fittest sensors to make the guess of the source localization\n",
    "    return bleh"
   ]
  },
  {
   "cell_type": "code",
   "execution_count": 31,
   "metadata": {},
   "outputs": [],
   "source": [
    "f= 'Data1st.txt' #just importing data from touch in a single point with different forces\n",
    "window_size= 1000\n",
    "Window1= deque([])\n",
    "Window2= deque([])\n",
    "Window3= deque([])\n",
    "Window4= deque([])\n",
    "Window5= deque([])\n",
    "Window6= deque([])\n",
    "j=0\n",
    "fig= pyplot.figure()\n",
    "# Each line is a time stamp. \n",
    "# The sampling rate at which this data was taken is 400 Hz and the goal is 1kHz\n",
    "with open(f) as file: #this loop will be replaced by some pyserial readline instruction\n",
    "    for line in file:\n",
    "        data, timestamp = line.split(\"-\")\n",
    "        Sensors= data.split(\",\")\n",
    "        \n",
    "        #Because this is a simulation of the \"big picture\", I am going to use 6 deques:\n",
    "        Sensors1=Sensors[0]\n",
    "        Sensors2=Sensors[1]\n",
    "        Sensors3=Sensors[2]\n",
    "        Sensors4=Sensors[3]\n",
    "        Sensors5=Sensors[4]\n",
    "        Sensors6=Sensors[5]\n",
    "        if j<=window_size:    \n",
    "            Window1.append(Sensors1)\n",
    "            Window2.append(Sensors2)\n",
    "            Window3.append(Sensors3)\n",
    "            Window4.append(Sensors4)\n",
    "            Window1.append(Sensors5)\n",
    "            Window2.append(Sensors6)\n",
    "            j= j+1\n",
    "        else:\n",
    "            Window1.append(Sensors1)\n",
    "            Window2.append(Sensors2)\n",
    "            Window3.append(Sensors3)\n",
    "            Window4.append(Sensors4)\n",
    "            Window5.append(Sensors5)\n",
    "            Window6.append(Sensors6)\n",
    "            Window1.popleft()\n",
    "            Window2.popleft()\n",
    "            Window3.popleft()\n",
    "            Window4.popleft()\n",
    "            Window5.popleft()\n",
    "            Window6.popleft()  \n",
    "            \n",
    "        # work from here to localize the source\n",
    "        #yesno= Event(Window, sensor_index)"
   ]
  },
  {
   "cell_type": "code",
   "execution_count": null,
   "metadata": {
    "collapsed": true
   },
   "outputs": [],
   "source": []
  },
  {
   "cell_type": "code",
   "execution_count": null,
   "metadata": {
    "collapsed": true
   },
   "outputs": [],
   "source": []
  }
 ],
 "metadata": {
  "kernelspec": {
   "display_name": "Python 3",
   "language": "python",
   "name": "python3"
  },
  "language_info": {
   "codemirror_mode": {
    "name": "ipython",
    "version": 3
   },
   "file_extension": ".py",
   "mimetype": "text/x-python",
   "name": "python",
   "nbconvert_exporter": "python",
   "pygments_lexer": "ipython3",
   "version": "3.6.0"
  }
 },
 "nbformat": 4,
 "nbformat_minor": 2
}
