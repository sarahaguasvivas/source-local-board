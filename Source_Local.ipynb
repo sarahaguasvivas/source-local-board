{
 "cells": [
  {
   "cell_type": "markdown",
   "metadata": {},
   "source": [
    "# Source Localization using Distributed Sensors\n",
    " **(Final version will read directly from Pyserial and data will be collected at higher sampling rate)**"
   ]
  },
  {
   "cell_type": "markdown",
   "metadata": {},
   "source": [
    "The first thing I need is a position matrix for all the sensors. The reason to start from a position matrix and not a distance matrix is because this algorithm can be adapted to a scenario where the sensors are not in a static position. I will record those positions in a dictionary using as relative position the position of sensor 1."
   ]
  },
  {
   "cell_type": "code",
   "execution_count": 2,
   "metadata": {},
   "outputs": [
    {
     "data": {
      "text/html": [
       "<img src=\"sensors.jpg\" alt=\"Drawing\" style=\"width: 500px;\" align= \"middle\">"
      ],
      "text/plain": [
       "<IPython.core.display.HTML object>"
      ]
     },
     "metadata": {},
     "output_type": "display_data"
    }
   ],
   "source": [
    "%%html\n",
    "<img src=\"sensors.jpg\" alt=\"Drawing\" style=\"width: 500px;\" align= \"middle\">"
   ]
  },
  {
   "cell_type": "code",
   "execution_count": 3,
   "metadata": {
    "collapsed": true
   },
   "outputs": [],
   "source": [
    "import numpy as np\n",
    "import scipy\n",
    "from matplotlib import pyplot\n",
    "from scipy import signal\n",
    "from scipy.stats import norm\n",
    "from collections import deque\n",
    "from multiprocessing import Pool\n",
    "import random\n",
    "import scipy.sparse.linalg as splinalg"
   ]
  },
  {
   "cell_type": "code",
   "execution_count": 4,
   "metadata": {},
   "outputs": [
    {
     "name": "stdout",
     "output_type": "stream",
     "text": [
      "{1: [0, 0], 2: [0, 10], 3: [0, 20], 4: [15, 0], 5: [15, 10], 6: [15, 20], 7: [30, 0], 8: [30, 10], 9: [30, 20], 10: [45, 0], 11: [45, 10], 12: [45, 20]}\n"
     ]
    }
   ],
   "source": [
    "def R_dictionary(sensor, Hash):\n",
    "    Hash.update(sensor)\n",
    "\n",
    "#Growing my Position dictionary:\n",
    "Hash={}\n",
    "k=0\n",
    "for j in np.array([0, 15, 30, 45]):\n",
    "    for i in np.array([0, 10, 20]):\n",
    "        k=k+1\n",
    "        R_dictionary({k: [j, i]}, Hash)\n",
    "print(Hash)"
   ]
  },
  {
   "cell_type": "markdown",
   "metadata": {},
   "source": [
    "Now, I want to create a relative distance matrix by computing the Euclidean distance between each sensor. "
   ]
  },
  {
   "cell_type": "code",
   "execution_count": 5,
   "metadata": {},
   "outputs": [
    {
     "data": {
      "image/png": "[encoded data removed]",
      "text/plain": [
       "<matplotlib.figure.Figure at 0x10a89d198>"
      ]
     },
     "metadata": {},
     "output_type": "display_data"
    }
   ],
   "source": [
    "Rel_Pos= np.zeros((len(Hash), len(Hash)))\n",
    "for i in  np.arange(len(Hash)):\n",
    "    for j in np.arange(len(Hash)):\n",
    "        Rel_Pos[i][j]= ((Hash[i+1][0] - Hash[j+1][0])**2 + (Hash[i+1][1] - Hash[j+1][1])**2)**(1./2.)\n",
    "pyplot.spy(Rel_Pos)\n",
    "pyplot.show()"
   ]
  },
  {
   "cell_type": "markdown",
   "metadata": {},
   "source": [
    "TO DO:\n",
    "* ~~Import the data and parse it~~\n",
    "* ~~Make a routine that decomposes the signal at level 1: s= a1+d1~~\n",
    "* ~~Use d1 to determine if there is an event if there is no event, don't do anything. If there is an event, fire the algorithm and record the time in which the event happened (t!)~~\n",
    "* ~~With the data identify the ones that got highest frequency at t!~~\n",
    "* ~~Assign probabilities to each sensor~~ ~~Breed~~\n",
    "* Do the triangulization method\n",
    "* Do the things suggested by Jed in the gitter"
   ]
  },
  {
   "cell_type": "code",
   "execution_count": 6,
   "metadata": {
    "collapsed": true
   },
   "outputs": [],
   "source": [
    "def Event(sensor, right):\n",
    "    # Module for Anomaly Detection\n",
    "    # For CSCI 5363, I will use a Discrete Wavelet Transform for this module using the Fast Wavelet Transform Algorithm\n",
    "    # I only care about the level 1 decomposition's second coefficient (d1) in  s= a1+d1 to identify whether there is an event or not\n",
    "    # For CNN purposes, this module will be equivalent to the convolutional layer in a neural network\n",
    "    widths = np.arange(1, 31)\n",
    "    sensor= np.array(sensor)\n",
    "    cwtmatr = signal.cwt(sensor.astype(int), signal.ricker, widths)\n",
    "    yesno=0\n",
    "    left=right\n",
    "    right = np.linalg.norm(cwtmatr[:, -1], np.inf)\n",
    "    \n",
    "    if right-left > 300:\n",
    "        yesno = 1 \n",
    "        sensdata= sensor[-1]   \n",
    "    else:\n",
    "        yesno = 0\n",
    "        sensdata = np.zeros_like(right)\n",
    "        \n",
    "    return yesno, right, sensdata\n",
    "\n",
    "def F(x1, x2, x3, y1, y2, y3, r_21, r_31, u):\n",
    "    x0= u[0]\n",
    "    y0= u[1]\n",
    "    return np.array([2*(x0**2 + y0**2 - x0*x2 -x0*x3 -y0*y2 -y0*y3), x2**2+ x3**2\n",
    "                + y2**2 + y3**2 -(r_21**2+r_31**2)*(x0**2+y0**2-2*(x0*x1+y0*y1)\n",
    "                                                + x1**2 + y1**2)])\n",
    "\n",
    "def J(x1, x2, x3, y1, y2, y3,  r_21, r_31, u):\n",
    "    x0= u[0]\n",
    "    y0= u[1]\n",
    "    return np.array([[2*(2*x0-x2-x3), 2*(2*y0-y2-y3)], \n",
    "                    [-(r_21**2+r_31**2)*(2*x0-2*x1), -(r_21**2+r_31**2)*(2*y0-2*y1)]])\n",
    "\n",
    "\n",
    "    \n",
    "def SourceLoc(s1,s2,s3,u,x1,x2,x3,y1,y2,y3,rtol,maxit,epsilon,verbose):\n",
    "    #print(s1, s2, s3)\n",
    "    # This is my version of fsolve_newton() by Jed Brown\n",
    "    # This is the actual routine that will do the\n",
    "    # source localization given three sensors and\n",
    "    # time of arrival\n",
    "    u0= u.copy()\n",
    "    \n",
    "    #I will be using the cross correlation to get the time delay of the signals\n",
    "    r_21 = signal.correlate(s1,s2, mode='same')/(360*400)\n",
    "    r_31 = signal.correlate(s2,s3,mode='same')/(360*400)\n",
    "    \n",
    "   # print(r_21, r_31)\n",
    "    \n",
    "    Fu= F(x1, x2, x3, y1, y2, y3, r_21, r_31, u)\n",
    "    JJ= J(x1, x2, x3, y1, y2, y3, r_21, r_31, u)\n",
    "    \n",
    "    norm0= np.linalg.norm(Fu)\n",
    "    enorm_last= np.linalg.norm(u - np.array([1,1],dtype= np.float64))\n",
    "    for i in range(maxit):\n",
    "        \n",
    "        def Ju_fd(v): # Preconditioning the Jacobian\n",
    "            return (F(x1, x2, x3, y1, y2, y3, r_21, r_31, u + epsilon*v) - \n",
    "                F(x1, x2, x3, y1, y2, y3, r_21, r_31, u)) / epsilon\n",
    "    \n",
    "        Ju = splinalg.LinearOperator((len(Fu),len(u)), matvec=Ju_fd)\n",
    "    \n",
    "        du, info = splinalg.gmres(Ju, Fu)\n",
    "    \n",
    "        if info != 0:\n",
    "            raise RuntimeError('GMRES failed to converge: {:d}'.format(info))\n",
    "        \n",
    "        u -= du\n",
    "\n",
    "        Fu= F(x1, x2, x3, y1, y2, y3, r_21, r_31, u)\n",
    "        norm= np.linalg.norm(Fu)\n",
    "        \n",
    "        if verbose:\n",
    "            enorm= np.linalg.norm(u - np.array([1,1]))\n",
    "            print('Newton {:d} anorm {:6.2e} rnorm {:6.2e} eratio {:6.2f}'.\n",
    "                  format(i+1, norm, norm/norm0, enorm/enorm_last**2))\n",
    "            enorm_last= enorm\n",
    "        if norm < rtol*norm0:\n",
    "            break\n",
    "        if np.isnan(norm):\n",
    "            raise RuntimeError('Newton Raphson failed to converge: {:d}'.format(info)) \n",
    "    return u,i\n",
    "\n",
    "def Breeding(all_sensors, n):\n",
    "    #This function will be called by each sensor every time there is an event in order\n",
    "    #to be paired with two of the fittest sensors to make the guess of the source localization\n",
    "\n",
    "    sensordata1, sensordata2, sensordata3, sensordata4, sensordata5, sensordata6= all_sensors\n",
    "   \n",
    "    listing= np.arange(len(all_sensors))\n",
    "    listing= np.delete(listing, 0, n)\n",
    "    \n",
    "    fitness= np.array(all_sensors)\n",
    "    fitness= np.delete(fitness, 0, n)\n",
    "    fitness= fitness.astype(np.float) #I will put that fitness into a probability density function\n",
    "    while np.count_nonzero(fitness)==1:\n",
    "        fitness[np.random.randint(1,len(fitness))]= 10.0\n",
    "    p=fitness/sum(fitness)\n",
    "    \n",
    "    pair= np.random.choice(listing,2, replace=False, p = p) \n",
    "    \n",
    "    return pair \n",
    "    "
   ]
  },
  {
   "cell_type": "code",
   "execution_count": 8,
   "metadata": {
    "scrolled": false
   },
   "outputs": [
    {
     "name": "stdout",
     "output_type": "stream",
     "text": [
      "[ 17.47641204   1.5195993 ]\n",
      "[ 2.85473712 -1.60480645]\n",
      "[-0.75169157  6.37266622]\n",
      "[ -1.92416963  16.21067488]\n",
      "[-1.51044174  5.24887688]\n",
      "[ 4.66243264 -2.17366878]\n",
      "[ -2.9702254   11.43909663]\n",
      "[ 9.73618261  3.58918284]\n",
      "[ 3.80130232 -1.94025274]\n",
      "[ 4.95266361 -1.5759186 ]\n",
      "[ 2.98321927 -1.6554147 ]\n"
     ]
    },
    {
     "data": {
      "image/png": "[encoded data removed]",
      "text/plain": [
       "<matplotlib.figure.Figure at 0x10ab72048>"
      ]
     },
     "metadata": {},
     "output_type": "display_data"
    }
   ],
   "source": [
    "f= 'Data1st.txt' #just importing data from touch in a single point with different forces\n",
    "# This dataset has the peculiarity that I only touched the same spot ten times, therefore, my estimations should\n",
    "# be close to those coordinates.\n",
    "window_size= 1000\n",
    "sampling_frequency= 400 #Hz\n",
    "Window1= deque([])\n",
    "Window2= deque([])\n",
    "Window3= deque([])\n",
    "Window4= deque([])\n",
    "Window5= deque([])\n",
    "Window6= deque([])\n",
    "j=0\n",
    "# Each line is a time stamp. \n",
    "# The sampling rate at which this data was taken is 400 Hz and the goal is 1kHz\n",
    "right1=0\n",
    "right2=0\n",
    "right3=0\n",
    "right4=0\n",
    "right5=0\n",
    "right6=0\n",
    "\n",
    "#im = pyplot.imread('sensors.png')\n",
    "#implot = pyplot.imshow(im)\n",
    "pyplot.figure()\n",
    "with open(f) as file: #this loop will be replaced by some pyserial readline instruction if a life demo were to be done\n",
    "    for line in file:\n",
    "        data, timestamp = line.split(\"-\")\n",
    "        Sensors= data.split(\",\")\n",
    "        \n",
    "        #Because this is a simulation of the \"big picture\", I am going to use 6 deques:\n",
    "        Sensors1=Sensors[0]\n",
    "        Sensors2=Sensors[1]\n",
    "        Sensors3=Sensors[2]\n",
    "        Sensors4=Sensors[3]\n",
    "        Sensors5=Sensors[4]\n",
    "        Sensors6=Sensors[5]\n",
    "        \n",
    "        if j<=window_size:    \n",
    "            Window1.append(Sensors1)\n",
    "            Window2.append(Sensors2)\n",
    "            Window3.append(Sensors3)\n",
    "            Window4.append(Sensors4)\n",
    "            Window5.append(Sensors5)\n",
    "            Window6.append(Sensors6)\n",
    "            j= j+1\n",
    "        else:\n",
    "            Window1.append(Sensors1)\n",
    "            Window2.append(Sensors2)\n",
    "            Window3.append(Sensors3)\n",
    "            Window4.append(Sensors4)\n",
    "            Window5.append(Sensors5)\n",
    "            Window6.append(Sensors6)\n",
    "            Window1.popleft()\n",
    "            Window2.popleft()\n",
    "            Window3.popleft()\n",
    "            Window4.popleft()\n",
    "            Window5.popleft()\n",
    "            Window6.popleft()  \n",
    "            \n",
    "# Now that the windows are ready, I will send them to the Event function and if most of the sensors agree\n",
    "# that there is an event, then the breeding pairing will actuate\n",
    "\n",
    "        if j>= window_size:\n",
    "            yesno1, right1, sensdata1= Event(Window1, right1)\n",
    "            sensdata2= Window2[-1]\n",
    "            sensdata3= Window3[-1]\n",
    "            sensdata4= Window4[-1]\n",
    "            sensdata5= Window5[-1]\n",
    "            sensdata6= Window6[-1]\n",
    "  \n",
    "            if yesno1==1:\n",
    "                listsens= (sensdata1, sensdata2, sensdata3, sensdata4, sensdata5, sensdata6)\n",
    "                pair1= Breeding(listsens, 0) #sensor1 will start at 0\n",
    "                x1= Hash[1][0]\n",
    "                y1= Hash[1][1]\n",
    "                x2= Hash[pair1[0]+1][0]\n",
    "                y2= Hash[pair1[0]+1][1]\n",
    "                x3= Hash[pair1[1]+1][0]\n",
    "                y3= Hash[pair1[1]+1][1]\n",
    "                s1= sensdata1\n",
    "                s2= listsens[pair1[0]]\n",
    "                s3= listsens[pair1[1]]\n",
    "                \n",
    "                #print(x1,y1,x2,y2,x3,y3)\n",
    "\n",
    "                u,i= SourceLoc(float(s1),float(s2),float(s3),[1,1],x1,x2,x3,y1,y2,y3,rtol=1e-8,maxit=70,\n",
    "                               epsilon=1e-8,verbose= False)\n",
    "                \n",
    "                # put a red dot, size 40, at 2 locations:\n",
    "                pyplot.scatter(u[0], u[1], c='k', s=40)\n",
    "                pyplot.xlim(xmin=-5)\n",
    "                pyplot.xlim(xmax= 19)\n",
    "                pyplot.ylim(ymin= -5)\n",
    "                pyplot.ylim(ymax= 7)\n",
    "\n",
    "                print(u)  \n",
    "                \n",
    "    pyplot.show()\n",
    "        #work from here to localize the source\n",
    "        #yesno= Event(Window, sensor_index)"
   ]
  },
  {
   "cell_type": "code",
   "execution_count": null,
   "metadata": {
    "collapsed": true
   },
   "outputs": [],
   "source": []
  }
 ],
 "metadata": {
  "kernelspec": {
   "display_name": "Python 3",
   "language": "python",
   "name": "python3"
  },
  "language_info": {
   "codemirror_mode": {
    "name": "ipython",
    "version": 3
   },
   "file_extension": ".py",
   "mimetype": "text/x-python",
   "name": "python",
   "nbconvert_exporter": "python",
   "pygments_lexer": "ipython3",
   "version": "3.6.0"
  }
 },
 "nbformat": 4,
 "nbformat_minor": 2
}
