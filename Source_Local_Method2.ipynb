{
 "cells": [
  {
   "cell_type": "markdown",
   "metadata": {},
   "source": [
    "# Source Localization using Distributed Sensors (Focus on one Sensor)\n",
    " **(End goal is wireless distributed source localization)**"
   ]
  },
  {
   "cell_type": "markdown",
   "metadata": {},
   "source": [
    "The first thing I need is a position matrix for all the sensors. The reason to start from a position matrix and not a distance matrix is because this algorithm can be adapted to a scenario where the sensors are not in a static position. I will record those positions in a dictionary using as relative position the position of sensor 1."
   ]
  },
  {
   "cell_type": "code",
   "execution_count": 1,
   "metadata": {},
   "outputs": [
    {
     "data": {
      "text/html": [
       "<img src=\"sensors.jpg\" alt=\"Drawing\" style=\"width: 500px;\" align= \"middle\">"
      ],
      "text/plain": [
       "<IPython.core.display.HTML object>"
      ]
     },
     "metadata": {},
     "output_type": "display_data"
    }
   ],
   "source": [
    "%%html\n",
    "<img src=\"sensors.jpg\" alt=\"Drawing\" style=\"width: 500px;\" align= \"middle\">"
   ]
  },
  {
   "cell_type": "markdown",
   "metadata": {},
   "source": [
    "## Location of the Test Points in inches:\n",
    " * Point 1: (2, 6)\n",
    " * Point 2: (4, 6)\n",
    " * Point 3: (2, 2)\n",
    " * Point 4: (4, 2)"
   ]
  },
  {
   "cell_type": "code",
   "execution_count": 2,
   "metadata": {
    "collapsed": true
   },
   "outputs": [],
   "source": [
    "import numpy as np\n",
    "import scipy\n",
    "from matplotlib import pyplot\n",
    "from scipy import signal\n",
    "from scipy.stats import norm\n",
    "from sympy import *\n",
    "from collections import deque\n",
    "import random\n",
    "import scipy.sparse.linalg as splinalg"
   ]
  },
  {
   "cell_type": "markdown",
   "metadata": {},
   "source": [
    "## Location of the Sensors:"
   ]
  },
  {
   "cell_type": "code",
   "execution_count": 3,
   "metadata": {},
   "outputs": [
    {
     "name": "stdout",
     "output_type": "stream",
     "text": [
      "{1: [0, 0], 2: [0, 10], 3: [0, 20], 4: [15, 0], 5: [15, 10], 6: [15, 20], 7: [30, 0], 8: [30, 10], 9: [30, 20], 10: [45, 0], 11: [45, 10], 12: [45, 20]}\n"
     ]
    }
   ],
   "source": [
    "def R_dictionary(sensor, Hash):\n",
    "    Hash.update(sensor)\n",
    "\n",
    "#Growing my Position dictionary:\n",
    "Hash={}\n",
    "k=0\n",
    "for j in np.array([0, 15, 30, 45]):\n",
    "    for i in np.array([0, 10, 20]):\n",
    "        k=k+1\n",
    "        R_dictionary({k: [j, i]}, Hash)\n",
    "print(Hash)"
   ]
  },
  {
   "cell_type": "markdown",
   "metadata": {},
   "source": [
    "Now, I want to create a relative distance matrix by computing the Euclidean distance between each sensor. "
   ]
  },
  {
   "cell_type": "code",
   "execution_count": 4,
   "metadata": {},
   "outputs": [
    {
     "data": {
      "image/png": "[encoded data removed]",
      "text/plain": [
       "<matplotlib.figure.Figure at 0x10c0c86a0>"
      ]
     },
     "metadata": {},
     "output_type": "display_data"
    }
   ],
   "source": [
    "Rel_Pos= np.zeros((len(Hash), len(Hash)))\n",
    "for i in  np.arange(len(Hash)):\n",
    "    for j in np.arange(len(Hash)):\n",
    "        Rel_Pos[i][j]= ((Hash[i+1][0] - Hash[j+1][0])**2 + (Hash[i+1][1] - Hash[j+1][1])**2)**(1./2.)\n",
    "pyplot.imshow(Rel_Pos, cmap= 'inferno')\n",
    "pyplot.colorbar()\n",
    "pyplot.xlabel('sensor #')\n",
    "pyplot.ylabel('sensor #')\n",
    "pyplot.title('Relative Position between Sensors')\n",
    "pyplot.show()"
   ]
  },
  {
   "cell_type": "markdown",
   "metadata": {},
   "source": [
    "**Triangulation Method** \n",
    "\n",
    "A common way to localize sources is using a method called the Triangulation Method. This means that one sensor communicates to two other sensors in order to localize where the source of the wave came from. The main Equation to be solved here takes the following form:\n",
    "\n",
    "\\begin{equation}\n",
    "E(x_0, y_0)= 2(x_0^2+y_0^2-x_0x_2-x_0x_3-y_0y_2-y_0y_3) + x_2^2+x_3^2+y_2^2+y_3^2 - (r_{21}^2+r_{31}^2)(x_0^2+y_0^2-2(x_0x_1+y_0y_1)+x_1^2+y_1^2))^2\n",
    "\\end{equation}\n",
    "\n",
    "From this expression, the following results through further derivation: First, we make an expression for the distances between the vertices of the triangle and the impact point:\n",
    "\n",
    "\\begin{equation}\n",
    "    d_i= ((x_i-x_0)^2+(y_i-y_0)^2)^{\\frac{1}{2}}\n",
    "\\end{equation}\n",
    "\n",
    "Then, the following expression is derived from the previous one which I call FFF1 in the code:\n",
    "\n",
    "\\begin{equation}\n",
    "E(x_0, y_0)= (t_{23}(d_1-d_2)-t_{12}(d_2-d_3))^2+(t_{31}(d_2-d_3)-t_{23}(d_3-d_1))^2+(t_{12}(d_3-d_1)-t_{31}(d_1-d_2))^2\n",
    "\\end{equation}\n",
    "\n",
    "Since I only have one equation and two unknowns and my intention is to use Newton Krylov with GMRES for optimization, I need two equations. However, it is common practice to start such optimization by stating:\n",
    "\n",
    "\\begin{equation}\n",
    "f(x_0, y_0)=0\n",
    "\\end{equation}\n",
    "\n",
    "\\begin{equation}\n",
    "\\frac{\\partial f(x_0,y_0)}{\\partial x_0}=0\n",
    "\\end{equation}\n",
    "and \n",
    "\\begin{equation}\n",
    "\\frac{\\partial f(x_0,y_0)}{\\partial y_0}=0\n",
    "\\end{equation}\n",
    "\n",
    "This way I begin with a two equation two unknowns as seen in F1, whose Jacobian now becomes the Hessian of FFF1, and I called it J1 in the code."
   ]
  },
  {
   "cell_type": "code",
   "execution_count": 5,
   "metadata": {
    "collapsed": true
   },
   "outputs": [],
   "source": [
    "def Event(sensor, right, time, timelast):\n",
    "    ###############################################################\n",
    "    # MODULE FOR ANOMALY DETECTION\n",
    "    # -------------------------------------------------------------\n",
    "    # At the moment, I will be using a Discrete Wavelet Transform for this \n",
    "    # module using the Fast Wavelet Transform Algorithm to detect events. \n",
    "    # I only care about the level 1 decomposition's second coefficient (d1) in  s= a1+d1\n",
    "    # to identify whether there is an event or not. As the project develops, this module \n",
    "    # will detect events using Dana's method\n",
    "    ###############################################################\n",
    "    timelast=timelast\n",
    "    timenow=time[-1]\n",
    "    widths = np.arange(1, 31)\n",
    "    sensor= np.array(sensor)\n",
    "    cwtmatr = signal.cwt(sensor.astype(int), signal.ricker, widths)\n",
    "    \n",
    "    yesno=0\n",
    "    left=right\n",
    "    right = np.linalg.norm(cwtmatr[:, -1], np.inf)\n",
    "    \n",
    "    if right-left > 250 and np.abs(timenow-timelast)>2000:\n",
    "        yesno = 1 \n",
    "        timelast= timenow\n",
    "        sensdata= sensor[-1]   \n",
    "    else:\n",
    "        yesno = 0\n",
    "        sensdata = np.zeros_like(right)\n",
    "\n",
    "    return yesno, right, sensdata, timelast"
   ]
  },
  {
   "cell_type": "code",
   "execution_count": 6,
   "metadata": {
    "collapsed": true
   },
   "outputs": [],
   "source": [
    "# TRIANGULARIZATION STATEMENT EXPRESSION\n",
    "def FFF1(x1, x2, x3, y1, y2, y3, t23, t12, t31, x0,y0):\n",
    "    d1= ((x1-x0)**2+(y1-y0)**2)**(1./2.)\n",
    "    d2= ((x2-x0)**2+(y2-y0)**2)**(1./2.)\n",
    "    d3= ((x3-x0)**2+(y3-y0)**2)**(1./2.)\n",
    "    return t23*(d1-d2)-t12*(d2-d3)**2+(t31*(d2-d3)-t23*(d3-d1))**2+(t12*(d3-d1)-t31*(d1-d2))**2\n",
    "\n",
    "# EXPRESSION TO OPTIMIZE(DX and DY DERIVATIVES OF EXPRESSION ABOVE)\n",
    "def F1(x1, x2, x3, y1, y2, y3, t23, t12, t31, u):\n",
    "    x0= Symbol('x0')\n",
    "    y0= Symbol('y0')\n",
    "    dFdx = (FFF1(x1, x2, x3, y1, y2, y3, t23, t12, t31, x0,y0)).diff(x0)\n",
    "    dFdy = (FFF1(x1, x2, x3, y1, y2, y3, t23, t12, t31, x0,y0)).diff(y0)\n",
    "    \n",
    "    dx= lambdify((x0,y0),dFdx)\n",
    "    dy= lambdify((x0,y0),dFdy)\n",
    "    return np.array([dx(u[0],u[1]),dy(u[0],u[1])])\n",
    "\n",
    "# JACOBIAN OF THE EXPRESSION TO OPTIMIZE (HESSIAN OF FFF1)\n",
    "def J1(x1, x2, x3, y1, y2, y3, t23, t12, t31, u):\n",
    "    x0= Symbol('x0')\n",
    "    y0= Symbol('y0')\n",
    "    dFdx = FFF1(x1, x2, x3, y1, y2, y3, t23, t12, t31,x0,y0).diff(x0)\n",
    "    dFdy = FFF1(x1, x2, x3, y1, y2, y3, t23, t12, t31, x0,y0).diff(y0)\n",
    "    \n",
    "    ddFdx= dFdx.diff(x0)\n",
    "    ddFdy= dFdx.diff(y0)\n",
    "    ddFxdy= dFdx.diff(y0)\n",
    "    ddFydx= dFdy.diff(x0)\n",
    "    \n",
    "    dxx= lambdify((x0,y0),ddFdx)\n",
    "    dyy= lambdify((x0,y0),ddFdy)\n",
    "    dxy= lambdify((x0,y0),ddFxdy)\n",
    "    dyx= lambdify((x0,y0),ddFydx)\n",
    "    \n",
    "    return np.array([[dxx(u[0],u[1]), dxy(u[0],u[1])],\n",
    "                     [dyx(u[0],u[1]), dyy(u[0],u[1])]])"
   ]
  },
  {
   "cell_type": "code",
   "execution_count": 7,
   "metadata": {
    "collapsed": true
   },
   "outputs": [],
   "source": [
    "def SourceLoc(s1,s2,s3,u,x1,x2,x3,y1,y2,y3,t12,t23,t31,rtol,maxit,epsilon,verbose):\n",
    "    ###################################################################\n",
    "    # MODULE FOR SOURCE LOCALIZATION (using Newton-Krylov)\n",
    "    # -----------------------------------------------------------------\n",
    "    # This is my version of fsolve_newton() originally developed by Jed \n",
    "    # Brown (https://github.com/cucs-numpde/class). This is the routine\n",
    "    #  that will do the source localization given three sensor signals\n",
    "    ###################################################################\n",
    "    u0= u.copy()\n",
    "    Fu= F1(x1, x2, x3, y1, y2, y3, t23, t12, t31, u)\n",
    "    JJ= J1(x1, x2, x3, y1, y2, y3, t23, t12, t31, u)\n",
    "    \n",
    "    norm0= np.linalg.norm(Fu)\n",
    "    enorm_last= np.linalg.norm(u - np.array([1,1],dtype= np.float64))\n",
    "    \n",
    "    for i in range(maxit):\n",
    "        \n",
    "        def Ju_fd(v): # Preconditioning the Jacobian using Krylov \n",
    "            return (F1(x1, x2, x3, y1, y2, y3, t23, t12, t31, u + epsilon*v)  - \n",
    "                    Fu) / epsilon\n",
    "    \n",
    "        Ju = splinalg.LinearOperator((len(Fu),len(u)), matvec=Ju_fd)\n",
    "    \n",
    "        du, info = splinalg.gmres(JJ, Fu, x0=u, tol=1e-5, restart=10)\n",
    "        \n",
    "        if info != 0:\n",
    "            raise RuntimeError('GMRES failed to converge: {:d}'.format(info))\n",
    "        \n",
    "        u -= du\n",
    "\n",
    "        Fu= F1(x1, x2, x3, y1, y2, y3, t23, t12, t31, u)\n",
    "        norm= np.linalg.norm(Fu)\n",
    "        \n",
    "        if verbose:\n",
    "            enorm= np.linalg.norm(u - np.array([1,1]))\n",
    "            print('Newton {:d} anorm {:6.2e} rnorm {:6.2e} eratio {:6.2f}'.\n",
    "                  format(i+1, norm, norm/norm0, enorm/enorm_last**2))\n",
    "            enorm_last= enorm\n",
    "        if norm < rtol*norm0:\n",
    "            break\n",
    "        if np.isnan(norm):\n",
    "            raise RuntimeError('Newton Raphson failed to converge: {:d}'.format(info)) \n",
    "    return u,i   "
   ]
  },
  {
   "cell_type": "code",
   "execution_count": 8,
   "metadata": {
    "collapsed": true
   },
   "outputs": [],
   "source": [
    "def Breeding(all_sensors, n):\n",
    "    ###########################################################################\n",
    "    # MODULE FOR RANDOMLY SAMPLING THE SENSORS TO BE USED\n",
    "    #--------------------------------------------------------------------------\n",
    "    # This function will be called by each sensor every time there is an event in \n",
    "    # order to be paired with two of the fittest sensors to make the guess of the\n",
    "    # source localization.\n",
    "    ###########################################################################\n",
    "   \n",
    "    listing= np.arange(len(all_sensors))\n",
    "    listing= np.delete(listing, n)\n",
    "    \n",
    "    fitness= np.array(all_sensors)\n",
    "    fitness= np.delete(fitness, n)\n",
    "    \n",
    "    fitness= fitness.astype(np.float) #I will put that fitness into a probability density function\n",
    "    while np.count_nonzero(fitness)==1:\n",
    "        fitness[np.random.randint(1, fitness.shape[0])]= 10.0\n",
    "    p=fitness/sum(fitness)\n",
    "    \n",
    "    pair= np.random.choice(listing,2, replace=False, p = p) \n",
    "    \n",
    "    return pair "
   ]
  },
  {
   "cell_type": "code",
   "execution_count": 17,
   "metadata": {
    "scrolled": false
   },
   "outputs": [
    {
     "name": "stdout",
     "output_type": "stream",
     "text": [
      "sensor 1 detected an event\n",
      "sensor 2 detected an event\n",
      "sensor 3 detected an event\n",
      "sensor 4 detected an event\n",
      "sensor 5 detected an event\n",
      "sensor 6 detected an event\n",
      "[-2.91634641  5.46151401] L2 error=  4.94574859259 Max dist error=  4.91634640537\n",
      "sensor 1 detected an event\n",
      "sensor 3 detected an event\n",
      "sensor 4 detected an event\n",
      "sensor 5 detected an event\n",
      "[ 4.19344211  8.37405619] L2 error=  3.23223313996 Max dist error=  2.37405619173\n",
      "sensor 1 detected an event\n",
      "sensor 3 detected an event\n",
      "sensor 4 detected an event\n",
      "sensor 5 detected an event\n",
      "[ 2.08536603  8.15312255] L2 error=  2.15481416544 Max dist error=  2.15312255324\n",
      "sensor 1 detected an event\n",
      "sensor 3 detected an event\n",
      "sensor 4 detected an event\n",
      "sensor 5 detected an event\n",
      "[ 3.92311769  7.12501684] L2 error=  2.22801358648 Max dist error=  1.92311769007\n",
      "sensor 1 detected an event\n",
      "sensor 2 detected an event\n",
      "sensor 3 detected an event\n",
      "sensor 4 detected an event\n",
      "sensor 5 detected an event\n",
      "[ 1.7534509   9.04317016] L2 error=  3.05314118073 Max dist error=  3.04317015793\n",
      "sensor 1 detected an event\n",
      "sensor 2 detected an event\n",
      "sensor 3 detected an event\n",
      "sensor 4 detected an event\n",
      "sensor 5 detected an event\n",
      "[-0.29763726  6.76995451] L2 error=  2.42321417156 Max dist error=  2.2976372576\n",
      "sensor 1 detected an event\n",
      "sensor 3 detected an event\n",
      "sensor 4 detected an event\n",
      "sensor 5 detected an event\n",
      "[ 2.48434767  8.33481512] L2 error=  2.38452391565 Max dist error=  2.3348151198\n",
      "sensor 1 detected an event\n",
      "sensor 3 detected an event\n",
      "sensor 4 detected an event\n",
      "sensor 5 detected an event\n",
      "[ 7.90153761  5.12024483] L2 error=  5.96675081468 Max dist error=  5.90153760717\n"
     ]
    },
    {
     "data": {
      "image/png": "[encoded data removed]",
      "text/plain": [
       "<matplotlib.figure.Figure at 0x10c494400>"
      ]
     },
     "metadata": {},
     "output_type": "display_data"
    }
   ],
   "source": [
    "f= 'Data1st.txt' #just importing data from touch in a single point with different forces\n",
    "# This dataset has the peculiarity that I only touched the same spot ten times, therefore, my estimations should\n",
    "# be close to those coordinates.\n",
    "distance_tolerance=15\n",
    "window_size= 1000\n",
    "sampling_frequency= 400 #Hz\n",
    "Window1= deque([])\n",
    "Window2= deque([])\n",
    "Window3= deque([])\n",
    "Window4= deque([])\n",
    "Window5= deque([])\n",
    "Window6= deque([])\n",
    "AllS1= deque([])\n",
    "TimeWindow=deque([])\n",
    "timelast1=0\n",
    "timelast2=0\n",
    "timelast3= 0\n",
    "timelast4=0\n",
    "timelast5=0\n",
    "timelast6= 0\n",
    "j=0\n",
    "\n",
    "# The sampling rate at which this data was taken is 400 Hz and the goal is 1kHz\n",
    "right1=0\n",
    "right2=0\n",
    "right3=0\n",
    "right4=0\n",
    "right5=0\n",
    "right6=0\n",
    "\n",
    "with open(f) as file: #this loop will be replaced by some pyserial readline instruction if a life demo were to be done\n",
    "    for line in file:\n",
    "        data, timestamp = line.split(\"-\")\n",
    "        Sensors= data.split(\",\")\n",
    "\n",
    "        #One deque per sensor plus one for the timestamps.\n",
    "        Sensors1=Sensors[0]\n",
    "        Sensors2=Sensors[1]\n",
    "        Sensors3=Sensors[2]\n",
    "        Sensors4=Sensors[3]\n",
    "        Sensors5=Sensors[4]\n",
    "        Sensors6=Sensors[5]\n",
    "        Time= timestamp\n",
    "        AllS1.append(Sensors1)\n",
    "        \n",
    "        if j<=window_size:    \n",
    "            Window1.append(Sensors1)\n",
    "            Window2.append(Sensors2)\n",
    "            Window3.append(Sensors3)\n",
    "            Window4.append(Sensors4)\n",
    "            Window5.append(Sensors5)\n",
    "            Window6.append(Sensors6)\n",
    "            TimeWindow.append(float(Time))\n",
    "            j= j+1\n",
    "        else:\n",
    "            Window1.append(Sensors1)\n",
    "            Window2.append(Sensors2)\n",
    "            Window3.append(Sensors3)\n",
    "            Window4.append(Sensors4)\n",
    "            Window5.append(Sensors5)\n",
    "            Window6.append(Sensors6)\n",
    "            TimeWindow.append(float(Time))\n",
    "            Window1.popleft()\n",
    "            Window2.popleft()\n",
    "            Window3.popleft()\n",
    "            Window4.popleft()\n",
    "            Window5.popleft()\n",
    "            Window6.popleft()  \n",
    "            TimeWindow.popleft()\n",
    "            \n",
    "# Now that the windows are ready, I will send them to the Event function and if most of the sensors agree\n",
    "# that there is an event, then the breeding pairing will actuate\n",
    "        if j>= window_size:\n",
    "            \n",
    "            yesno1, right1, sensdata1, timelast1= Event(Window1, right1,TimeWindow, timelast1)\n",
    "            yesno2, right2, sensdata2, timelast2= Event(Window2, right2, TimeWindow, timelast2)\n",
    "            yesno3, right3, sensdata3, timelast3= Event(Window3, right3, TimeWindow, timelast3)\n",
    "            yesno4, right4, sensdata4, timelast4= Event(Window4, right4, TimeWindow, timelast4)\n",
    "            yesno5, right5, sensdata5, timelast5= Event(Window5, right5, TimeWindow, timelast5)\n",
    "            yesno6, right6, sensdata6, timelast2= Event(Window6, right6, TimeWindow, timelast6)\n",
    "            \n",
    "            numsens=yesno1+yesno2+yesno3+yesno4+yesno5+yesno6\n",
    "            \n",
    "            if numsens<4:\n",
    "                continue\n",
    "                \n",
    "            \n",
    "            sumsum=np.array([0.0,0.0])\n",
    "            count=0\n",
    "\n",
    "            if yesno1==1:\n",
    "                print('sensor 1 detected an event')\n",
    "                listsens= (sensdata1, sensdata2, sensdata3, sensdata4, sensdata5, sensdata6)\n",
    "                listsens1= (Window1, Window2, Window3, Window4, Window5, Window6)\n",
    "                pair1= Breeding(listsens, 0) #sensor1 will start at 0\n",
    "                x1= Hash[1][0]\n",
    "                y1= Hash[1][1]\n",
    "                x2= Hash[pair1[0]+1][0]\n",
    "                y2= Hash[pair1[0]+1][1]\n",
    "                x3= Hash[pair1[1]+1][0]\n",
    "                y3= Hash[pair1[1]+1][1]\n",
    "                s1= sensdata1\n",
    "                s2= listsens[pair1[0]]\n",
    "                s3= listsens[pair1[1]]\n",
    "                ss1= listsens1[0]\n",
    "                ss2= listsens1[pair1[0]]\n",
    "                ss3= listsens1[pair1[1]]\n",
    "                \n",
    "                t12= np.amax(np.correlate(np.asarray(ss1, dtype=np.float64),\n",
    "                                          np.asarray(ss2, dtype=np.float64), mode='full'))\n",
    "                t23= np.amax(np.correlate(np.asarray(ss2, dtype=np.float64),\n",
    "                                          np.asarray(ss3, dtype=np.float64), mode='full'))\n",
    "                t31= np.amax(np.correlate(np.asarray(ss3, dtype=np.float64),\n",
    "                                          np.asarray(ss1, dtype=np.float64), mode='full'))\n",
    "       \n",
    "                u1,i= SourceLoc(float(s1),float(s2),float(s3),[.1,.1],\n",
    "                                x1,x2,x3,y1,y2,y3,t12,t23,t31,rtol=1e-25,maxit=50,\n",
    "                               epsilon=1e-8,verbose= False)\n",
    "                \n",
    "                if np.linalg.norm(u1)<distance_tolerance:\n",
    "                    sumsum+= u1\n",
    "                    count+=1\n",
    "                \n",
    "            if yesno2==1:\n",
    "                print('sensor 2 detected an event')\n",
    "                listsens= (sensdata1, sensdata2, sensdata3, sensdata4, sensdata5, sensdata6)\n",
    "                listsens1= (Window1, Window2, Window3, Window4, Window5, Window6)\n",
    "                pair2= Breeding(listsens, 1) #sensor1 will start at 0\n",
    "                x1= Hash[2][0]\n",
    "                y1= Hash[2][1]\n",
    "                x2= Hash[pair2[0]+1][0]\n",
    "                y2= Hash[pair2[0]+1][1]\n",
    "                x3= Hash[pair2[1]+1][0]\n",
    "                y3= Hash[pair2[1]+1][1]\n",
    "                s1= sensdata2\n",
    "                s2= listsens[pair2[0]]\n",
    "                s3= listsens[pair2[1]]\n",
    "                ss1= listsens1[1]\n",
    "                ss2= listsens1[pair2[0]]\n",
    "                ss3= listsens1[pair2[1]]\n",
    "                \n",
    "                t12= np.amax(np.correlate(np.asarray(ss1, dtype=np.float64),\n",
    "                                          np.asarray(ss2, dtype=np.float64), mode='full'))\n",
    "                t23= np.amax(np.correlate(np.asarray(ss2, dtype=np.float64),\n",
    "                                          np.asarray(ss3, dtype=np.float64), mode='full'))\n",
    "                t31= np.amax(np.correlate(np.asarray(ss3, dtype=np.float64),\n",
    "                                          np.asarray(ss1, dtype=np.float64), mode='full'))\n",
    "       \n",
    "                u2,i= SourceLoc(float(s1),float(s2),float(s3),[.1,.1],\n",
    "                                x1,x2,x3,y1,y2,y3,t12,t23,t31,rtol=1e-25,maxit=50,\n",
    "                               epsilon=1e-8,verbose= False)     \n",
    "                \n",
    "                if np.linalg.norm(u2)<distance_tolerance:\n",
    "                    sumsum+=u2\n",
    "                    count+=1\n",
    "                \n",
    "            if yesno3==1:\n",
    "                print('sensor 3 detected an event')\n",
    "                listsens= (sensdata1, sensdata2, sensdata3, sensdata4, sensdata5, sensdata6)\n",
    "                listsens1= (Window1, Window2, Window3, Window4, Window5, Window6)\n",
    "                pair1= Breeding(listsens, 2) #sensor1 will start at 0\n",
    "                x1= Hash[3][0]\n",
    "                y1= Hash[3][1]\n",
    "                x2= Hash[pair1[0]+1][0]\n",
    "                y2= Hash[pair1[0]+1][1]\n",
    "                x3= Hash[pair1[1]+1][0]\n",
    "                y3= Hash[pair1[1]+1][1]\n",
    "                s1= sensdata3\n",
    "                s2= listsens[pair1[0]]\n",
    "                s3= listsens[pair1[1]]\n",
    "                ss1= listsens1[2]\n",
    "                ss2= listsens1[pair1[0]]\n",
    "                ss3= listsens1[pair1[1]]\n",
    "                \n",
    "                t12= np.amax(np.correlate(np.asarray(ss1, dtype=np.float64),\n",
    "                                          np.asarray(ss2, dtype=np.float64), mode='full'))\n",
    "                t23= np.amax(np.correlate(np.asarray(ss2, dtype=np.float64),\n",
    "                                          np.asarray(ss3, dtype=np.float64), mode='full'))\n",
    "                t31= np.amax(np.correlate(np.asarray(ss3, dtype=np.float64),\n",
    "                                          np.asarray(ss1, dtype=np.float64), mode='full'))\n",
    "       \n",
    "                u3,i= SourceLoc(float(s1),float(s2),float(s3),[.1,.1],\n",
    "                                x1,x2,x3,y1,y2,y3,t12,t23,t31,rtol=1e-25,maxit=50,\n",
    "                               epsilon=1e-8,verbose= False)\n",
    "                if np.linalg.norm(u3)<distance_tolerance:\n",
    "                    sumsum+=u3\n",
    "                    count+=1\n",
    "        \n",
    "            if yesno4==1:\n",
    "                print('sensor 4 detected an event')\n",
    "                listsens= (sensdata1, sensdata2, sensdata3, sensdata4, sensdata5, sensdata6)\n",
    "                listsens1= (Window1, Window2, Window3, Window4, Window5, Window6)\n",
    "                pair1= Breeding(listsens, 3) #sensor1 will start at 0\n",
    "                x1= Hash[4][0]\n",
    "                y1= Hash[4][1]\n",
    "                x2= Hash[pair1[0]+1][0]\n",
    "                y2= Hash[pair1[0]+1][1]\n",
    "                x3= Hash[pair1[1]+1][0]\n",
    "                y3= Hash[pair1[1]+1][1]\n",
    "                s1= sensdata4\n",
    "                s2= listsens[pair1[0]]\n",
    "                s3= listsens[pair1[1]]\n",
    "                ss1= listsens1[3]\n",
    "                ss2= listsens1[pair1[0]]\n",
    "                ss3= listsens1[pair1[1]]\n",
    "                \n",
    "                t12= np.amax(np.correlate(np.asarray(ss1, dtype=np.float64),\n",
    "                                          np.asarray(ss2, dtype=np.float64), mode='full'))\n",
    "                t23= np.amax(np.correlate(np.asarray(ss2, dtype=np.float64),\n",
    "                                          np.asarray(ss3, dtype=np.float64), mode='full'))\n",
    "                t31= np.amax(np.correlate(np.asarray(ss3, dtype=np.float64),\n",
    "                                          np.asarray(ss1, dtype=np.float64), mode='full'))\n",
    "       \n",
    "                u4,i= SourceLoc(float(s1),float(s2),float(s3),[.1,.1],\n",
    "                                x1,x2,x3,y1,y2,y3,t12,t23,t31,rtol=1e-25,\n",
    "                                maxit=50,epsilon=1e-8,verbose= False) \n",
    "                if np.linalg.norm(u4)<distance_tolerance:\n",
    "                    sumsum+=u4\n",
    "                    count+=1\n",
    "                \n",
    "            if yesno5==1:\n",
    "                print('sensor 5 detected an event')\n",
    "                listsens= (sensdata1, sensdata2, sensdata3, sensdata4, sensdata5, sensdata6)\n",
    "                listsens1= (Window1, Window2, Window3, Window4, Window5, Window6)\n",
    "                pair1= Breeding(listsens, 4) #sensor1 will start at 0\n",
    "                x1= Hash[5][0]\n",
    "                y1= Hash[5][1]\n",
    "                x2= Hash[pair1[0]+1][0]\n",
    "                y2= Hash[pair1[0]+1][1]\n",
    "                x3= Hash[pair1[1]+1][0]\n",
    "                y3= Hash[pair1[1]+1][1]\n",
    "                s1= sensdata5\n",
    "                s2= listsens[pair1[0]]\n",
    "                s3= listsens[pair1[1]]\n",
    "                ss1= listsens1[4]\n",
    "                ss2= listsens1[pair1[0]]\n",
    "                ss3= listsens1[pair1[1]]\n",
    "                \n",
    "                t12= np.amax(np.correlate(np.asarray(ss1, dtype=np.float64),\n",
    "                                          np.asarray(ss2, dtype=np.float64), mode='full'))\n",
    "                t23= np.amax(np.correlate(np.asarray(ss2, dtype=np.float64),\n",
    "                                          np.asarray(ss3, dtype=np.float64), mode='full'))\n",
    "                t31= np.amax(np.correlate(np.asarray(ss3, dtype=np.float64),\n",
    "                                          np.asarray(ss1, dtype=np.float64), mode='full'))\n",
    "       \n",
    "                u5,i= SourceLoc(float(s1),float(s2),float(s3),[.1,.1],\n",
    "                                x1,x2,x3,y1,y2,y3,t12,t23,t31,rtol=1e-25,\n",
    "                                maxit=50,epsilon=1e-8,verbose= False)   \n",
    "                if np.linalg.norm(u5)<distance_tolerance:\n",
    "                    sumsum+=u5\n",
    "                    count+=1\n",
    "                \n",
    "            if yesno6==1:\n",
    "                print('sensor 6 detected an event')\n",
    "                listsens= (sensdata1, sensdata2, sensdata3, sensdata4, sensdata5, sensdata6)\n",
    "                listsens1= (Window1, Window2, Window3, Window4, Window5, Window6)\n",
    "                pair1= Breeding(listsens, 5) \n",
    "                x1= Hash[6][0]\n",
    "                y1= Hash[6][1]\n",
    "                x2= Hash[pair1[0]+1][0]\n",
    "                y2= Hash[pair1[0]+1][1]\n",
    "                x3= Hash[pair1[1]+1][0]\n",
    "                y3= Hash[pair1[1]+1][1]\n",
    "                s1= sensdata6\n",
    "                s2= listsens[pair1[0]]\n",
    "                s3= listsens[pair1[1]]\n",
    "                ss1= listsens1[5]\n",
    "                ss2= listsens1[pair1[0]]\n",
    "                ss3= listsens1[pair1[1]]\n",
    "                \n",
    "                t12= np.amax(np.correlate(np.asarray(ss1, dtype=np.float64),\n",
    "                                          np.asarray(ss2, dtype=np.float64), mode='full'))\n",
    "                t23= np.amax(np.correlate(np.asarray(ss2, dtype=np.float64),\n",
    "                                          np.asarray(ss3, dtype=np.float64), mode='full'))\n",
    "                t31= np.amax(np.correlate(np.asarray(ss3, dtype=np.float64),\n",
    "                                          np.asarray(ss1, dtype=np.float64), mode='full'))\n",
    "       \n",
    "                u6,i= SourceLoc(float(s1),float(s2),float(s3),[.1,.1],\n",
    "                                x1,x2,x3,y1,y2,y3,t12,t23,t31,rtol=1e-25,\n",
    "                                maxit=50,epsilon=1e-8,verbose= False)  \n",
    "                if np.linalg.norm(u6)<distance_tolerance:\n",
    "                    sumsum+=u6\n",
    "                    count+=1\n",
    "             \n",
    "            uavg= sumsum/count\n",
    "                \n",
    "            pyplot.scatter(uavg[0], uavg[1], c='k', s=40)\n",
    "            pyplot.xlim(xmin= -4)\n",
    "            pyplot.xlim(xmax= 20)\n",
    "            pyplot.ylim(ymin= -2)\n",
    "            pyplot.ylim(ymax= 10)\n",
    "            target= np.array([2, 6])\n",
    "            l2error= np.linalg.norm(uavg-target)\n",
    "            inferror= np.linalg.norm(uavg-target, np.inf)\n",
    "            print(uavg, \"L2 error= \", l2error, \"Max dist error= \", inferror)  \n",
    "            pyplot.scatter(2, 6, c='r', s=40)          \n",
    "pyplot.show()"
   ]
  },
  {
   "cell_type": "code",
   "execution_count": null,
   "metadata": {},
   "outputs": [],
   "source": [
    "fig1=pyplot.figure(figsize=(100,10))\n",
    "widths = np.arange(1, 31)\n",
    "sensor= np.array(AllS1)\n",
    "cwtmatr= signal.cwt(sensor.astype(int), signal.ricker, widths)\n",
    "pyplot.pcolormesh(cwtmatr)\n",
    "pyplot.colorbar()\n",
    "pyplot.xlabel('timestamp')     \n",
    "pyplot.show() \n",
    "fig1.savefig('wavelet.png')"
   ]
  },
  {
   "cell_type": "code",
   "execution_count": 34,
   "metadata": {},
   "outputs": [
    {
     "data": {
      "image/png": "[encoded data removed]",
      "text/plain": [
       "<matplotlib.figure.Figure at 0x10c4fe5f8>"
      ]
     },
     "metadata": {},
     "output_type": "display_data"
    }
   ],
   "source": [
    "fig=pyplot.figure(figsize=(100,10))\n",
    "pyplot.plot(sensor.astype(int), 'r',linewidth=7.0)\n",
    "pyplot.xlabel('timestamp')\n",
    "pyplot.ylabel('V')\n",
    "pyplot.show()  \n",
    "fig.savefig('raw.png')"
   ]
  },
  {
   "cell_type": "code",
   "execution_count": 35,
   "metadata": {},
   "outputs": [
    {
     "name": "stdout",
     "output_type": "stream",
     "text": [
      "20.0855369232\n"
     ]
    }
   ],
   "source": [
    "#Testing sympy derivatives\n",
    "def sinx(x):\n",
    "    return exp(x)\n",
    "\n",
    "def S1(u):\n",
    "    x= Symbol('x')\n",
    "    dFdx = (sinx(x)).diff(x)\n",
    "    \n",
    "    dx= lambdify((x),dFdx)\n",
    "\n",
    "    return dx(u)\n",
    "\n",
    "print(S1(3))"
   ]
  },
  {
   "cell_type": "markdown",
   "metadata": {
    "collapsed": true
   },
   "source": [
    "## What does order of accuracy mean in this context?"
   ]
  },
  {
   "cell_type": "markdown",
   "metadata": {},
   "source": [
    "The means to solve this problem was the Newton Raphson algorithm. Newton Raphson's essence is to solve a complicated equation by optimizing an expression. However, it is unknown whether the optimization of this expression is actually the solution to the problem or not. "
   ]
  },
  {
   "cell_type": "markdown",
   "metadata": {},
   "source": [
    "** Equations in the case of an anisotropic medium or cylindrical coordinates **\n"
   ]
  },
  {
   "cell_type": "markdown",
   "metadata": {},
   "source": [
    "In the case of an anisotropic medium, the time delay would not be linear. This means that the shear waves would split. These equation must be then solved in two steps: one step to solve for the nonlinear time delay of the propagating wave and another one to solve for the triangularization. \n",
    "\n",
    "In the case of a spherical/cylindrical coordinate system, one can either approximate the solution as if they were a flat plate by sacrificing accuracy or one can also use FEM in order to discretize the grid in a manner that it can be later assembled in a way the solutions are in the corresponding symmetry of the problem. "
   ]
  },
  {
   "cell_type": "markdown",
   "metadata": {
    "collapsed": true
   },
   "source": [
    "** Eikonal Equation **"
   ]
  },
  {
   "cell_type": "markdown",
   "metadata": {},
   "source": [
    "For anisotropic media, the time delay problem can be also interpreted as a shortest path problem through the Eikonal Equation, which takes the form of:\n",
    "\n",
    "\\begin{equation}\n",
    "|\\nabla u|= \\frac{1}{f(x)}\n",
    "\\end{equation}\n",
    "\n",
    "http://iopscience.iop.org.colorado.idm.oclc.org/article/10.1209/0295-5075/9/6/003/pdf\n",
    "\n",
    "where $f(x)$ is a function that involves the wave speed."
   ]
  },
  {
   "cell_type": "markdown",
   "metadata": {},
   "source": [
    "The weak form for this equation is simple, but the right hand side has to be a term that involves the wave speed in that material. If we make a manufactured solution to that equation and solve it using the FD2D notebook's solution, we are left with two different solutions for when the gradient gives a positive value and when the gradient gives a negative value or we can just use abs() after computing the gradient. Either way makes use of that solution in the notebook."
   ]
  },
  {
   "cell_type": "code",
   "execution_count": 14,
   "metadata": {},
   "outputs": [
    {
     "data": {
      "image/png": "[encoded data removed]",
      "text/plain": [
       "<matplotlib.figure.Figure at 0x10b4ea470>"
      ]
     },
     "metadata": {},
     "output_type": "display_data"
    }
   ],
   "source": [
    "############################\n",
    "#   BORROWED FROM FD2D     #\n",
    "############################\n",
    "\n",
    "def laplacian2dEikonal(h, f, g0):\n",
    "    m = int(1/h + 1)  # Number of elements in terms of nominal grid spacing h\n",
    "    h = 1 / (m-1)     # Actual grid spacing\n",
    "    c = np.linspace(-1, 11, m)\n",
    "    y, x = np.meshgrid(c, c)\n",
    "    u0 = g0(x, y).flatten()\n",
    "    rhs = 1/f(x, y).flatten()\n",
    "    A = sp.lil_matrix((m*m, m*m))\n",
    "    def idx(i, j):\n",
    "        return i*m + j\n",
    "    mask = np.zeros_like(x, dtype=int)\n",
    "    mask[1:-1,1:-1] = 1\n",
    "    mask = mask.flatten()\n",
    "    for i in range(m):\n",
    "        for j in range(m):\n",
    "            row = idx(i, j)\n",
    "            stencili = np.array([idx(*pair) for pair in \n",
    "                                    [(i-1, j), (i, j-1),\n",
    "                                     (i, j),\n",
    "                                     (i, j+1), (i+1, j)]])\n",
    "            stencilw = 1/h**2 * np.array([-1, -1, 4, -1, -1])\n",
    "            if mask[row] == 0: # Dirichlet boundary\n",
    "                A[row, row] = 1\n",
    "                rhs[row] = u0[row]\n",
    "            else:\n",
    "                smask = mask[stencili]\n",
    "                cols = stencili[smask == 1]\n",
    "                A[row, cols] = stencilw[smask == 1]\n",
    "                bdycols = stencili[smask == 0]\n",
    "                rhs[row] -= stencilw[smask == 0] @ u0[bdycols]\n",
    "    return x, y, A.tocsr(), rhs\n",
    "\n",
    "x, y, A, rhs = laplacian2dEikonal(.15, lambda x,y: 0*x+1, lambda x,y: 0*x)\n",
    "\n",
    "pyplot.spy(A);\n",
    "sp.linalg.norm(A - A.T)\n",
    "pyplot.show()"
   ]
  },
  {
   "cell_type": "code",
   "execution_count": 16,
   "metadata": {},
   "outputs": [
    {
     "name": "stdout",
     "output_type": "stream",
     "text": [
      "(51, 51) 33.7162304931\n"
     ]
    },
    {
     "data": {
      "image/png": "[encoded data removed]",
      "text/plain": [
       "<matplotlib.figure.Figure at 0x10bbdd438>"
      ]
     },
     "metadata": {},
     "output_type": "display_data"
    }
   ],
   "source": [
    "class mms0:\n",
    "    def u(x, y):\n",
    "        return x*np.exp(-x)*np.tanh(y)\n",
    "    def grad_u(x, y):\n",
    "        return np.array([(1 - x)*np.exp(-x)*np.tanh(y),\n",
    "                            x*np.exp(-x)*(1 - np.tanh(y)**2)])\n",
    "    def laplacian_u(x, y):\n",
    "        return ((2 - x)*np.exp(-x)*np.tanh(y)\n",
    "                - 2*x*np.exp(-x)*(np.tanh(y)**2 - 1)*np.tanh(y))\n",
    "    def grad_u_dot_normal(x, y, n):\n",
    "        return grad_u(x, y) @ n\n",
    "\n",
    "x, y, A, rhs = laplacian2dEikonal(.02, mms0.laplacian_u, mms0.u)\n",
    "u = sp.linalg.spsolve(A, rhs).reshape(x.shape)\n",
    "print(u.shape, np.linalg.norm((u - mms0.u(x,y)).flatten(), np.inf))\n",
    "pyplot.contourf(x, y, u)\n",
    "pyplot.colorbar()\n",
    "pyplot.title('Distibution of the Time Delay Across the Board')\n",
    "#pyplot.figure()\n",
    "#pyplot.contourf(x, y, u - mms0.u(x, y))\n",
    "#pyplot.colorbar()\n",
    "#pyplot.title('Error');\n",
    "pyplot.show()"
   ]
  },
  {
   "cell_type": "code",
   "execution_count": null,
   "metadata": {
    "collapsed": true
   },
   "outputs": [],
   "source": []
  }
 ],
 "metadata": {
  "kernelspec": {
   "display_name": "Python 3",
   "language": "python",
   "name": "python3"
  },
  "language_info": {
   "codemirror_mode": {
    "name": "ipython",
    "version": 3
   },
   "file_extension": ".py",
   "mimetype": "text/x-python",
   "name": "python",
   "nbconvert_exporter": "python",
   "pygments_lexer": "ipython3",
   "version": "3.6.0"
  }
 },
 "nbformat": 4,
 "nbformat_minor": 2
}
