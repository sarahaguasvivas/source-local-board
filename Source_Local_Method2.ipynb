{
 "cells": [
  {
   "cell_type": "markdown",
   "metadata": {},
   "source": [
    "# Source Localization using Distributed Sensors (Focus on one Sensor)\n",
    " **(Final version will read directly from Pyserial and data will be collected at higher sampling rate)**"
   ]
  },
  {
   "cell_type": "markdown",
   "metadata": {},
   "source": [
    "The first thing I need is a position matrix for all the sensors. The reason to start from a position matrix and not a distance matrix is because this algorithm can be adapted to a scenario where the sensors are not in a static position. I will record those positions in a dictionary using as relative position the position of sensor 1."
   ]
  },
  {
   "cell_type": "code",
   "execution_count": 66,
   "metadata": {},
   "outputs": [
    {
     "data": {
      "text/html": [
       "<img src=\"sensors.jpg\" alt=\"Drawing\" style=\"width: 500px;\" align= \"middle\">"
      ],
      "text/plain": [
       "<IPython.core.display.HTML object>"
      ]
     },
     "metadata": {},
     "output_type": "display_data"
    }
   ],
   "source": [
    "%%html\n",
    "<img src=\"sensors.jpg\" alt=\"Drawing\" style=\"width: 500px;\" align= \"middle\">"
   ]
  },
  {
   "cell_type": "code",
   "execution_count": 67,
   "metadata": {
    "collapsed": true
   },
   "outputs": [],
   "source": [
    "import numpy as np\n",
    "import scipy\n",
    "from matplotlib import pyplot\n",
    "from scipy import signal\n",
    "from scipy.stats import norm\n",
    "from collections import deque\n",
    "import random\n",
    "import scipy.sparse.linalg as splinalg"
   ]
  },
  {
   "cell_type": "code",
   "execution_count": 68,
   "metadata": {},
   "outputs": [
    {
     "name": "stdout",
     "output_type": "stream",
     "text": [
      "{1: [0, 0], 2: [0, 10], 3: [0, 20], 4: [15, 0], 5: [15, 10], 6: [15, 20], 7: [30, 0], 8: [30, 10], 9: [30, 20], 10: [45, 0], 11: [45, 10], 12: [45, 20]}\n"
     ]
    }
   ],
   "source": [
    "def R_dictionary(sensor, Hash):\n",
    "    Hash.update(sensor)\n",
    "\n",
    "#Growing my Position dictionary:\n",
    "Hash={}\n",
    "k=0\n",
    "for j in np.array([0, 15, 30, 45]):\n",
    "    for i in np.array([0, 10, 20]):\n",
    "        k=k+1\n",
    "        R_dictionary({k: [j, i]}, Hash)\n",
    "print(Hash)"
   ]
  },
  {
   "cell_type": "markdown",
   "metadata": {},
   "source": [
    "Now, I want to create a relative distance matrix by computing the Euclidean distance between each sensor. "
   ]
  },
  {
   "cell_type": "code",
   "execution_count": 69,
   "metadata": {
    "collapsed": true
   },
   "outputs": [],
   "source": [
    "Rel_Pos= np.zeros((len(Hash), len(Hash)))\n",
    "for i in  np.arange(len(Hash)):\n",
    "    for j in np.arange(len(Hash)):\n",
    "        Rel_Pos[i][j]= ((Hash[i+1][0] - Hash[j+1][0])**2 + (Hash[i+1][1] - Hash[j+1][1])**2)**(1./2.)\n",
    "#pyplot.spy(Rel_Pos)\n",
    "#pyplot.show()"
   ]
  },
  {
   "cell_type": "markdown",
   "metadata": {},
   "source": [
    "TO DO:\n",
    "* ~~Import the data and parse it~~\n",
    "* ~~Make a routine that decomposes the signal at level 1: s= a1+d1~~\n",
    "* ~~Use d1 to determine if there is an event if there is no event, don't do anything. If there is an event, fire the algorithm and record the time in which the event happened (t!)~~\n",
    "* ~~With the data identify the ones that got highest frequency at t!~~\n",
    "* ~~Assign probabilities to each sensor~~ ~~Breed~~\n",
    "* ~~Do the triangulization method~~\n",
    "* Do the things suggested by Jed in the gitter\n",
    "    * ~~What does order of accuracy mean in this context?~~\n",
    "    * ~~How would equations be if the medium is not isotropic so time delay is not just linear distance?~~\n",
    "    * Eikonal Equation"
   ]
  },
  {
   "cell_type": "markdown",
   "metadata": {},
   "source": [
    "**Triangularization** \n",
    "\n",
    "A common way to localize sources is using a method called the Triangularization Method. This means that one sensor communicates to two other sensors in order to localize where the source of the wave came from. The main Equation to be solved here takes the following form:\n",
    "\n",
    "\\begin{equation}\n",
    "E(x_0, y_0)= 2(x_0^2+y_0^2-x_0x_2-x_0x_3-y_0y_2-y_0y_3) + x_2^2+x_3^2+y_2^2+y_3^2 - (r_{21}^2+r_{31}^2)(x_0^2+y_0^2-2(x_0x_1+y_0y_1)+x_1^2+y_1^2))^2\n",
    "\\end{equation}"
   ]
  },
  {
   "cell_type": "code",
   "execution_count": 87,
   "metadata": {
    "collapsed": true
   },
   "outputs": [],
   "source": [
    "def Event(sensor, right):\n",
    "    ##############################################################################################################\n",
    "    # MODULE FOR ANOMALY DETECTION\n",
    "    # At the moment, I will be using a Discrete Wavelet Transform for this module using the Fast Wavelet Transform\n",
    "    # Algorithm to detect events. I only care about the level 1 decomposition's second coefficient (d1) in  s= a1+d1\n",
    "    # to identify whether there is an event or not. As the project develops, this module will detect events using\n",
    "    # artificial intelligence\n",
    "    ##############################################################################################################\n",
    "    widths = np.arange(1, 31)\n",
    "    sensor= np.array(sensor)\n",
    "    cwtmatr = signal.cwt(sensor.astype(int), signal.ricker, widths)\n",
    "    yesno=0\n",
    "    left=right\n",
    "    right = np.linalg.norm(cwtmatr[:, -1], np.inf)\n",
    "    \n",
    "    if right-left > 300:\n",
    "        yesno = 1 \n",
    "        sensdata= sensor[-1]   \n",
    "    else:\n",
    "        yesno = 0\n",
    "        sensdata = np.zeros_like(right)\n",
    "        \n",
    "    return yesno, right, sensdata \n",
    "\n",
    "# TRIANGULARIZATION EXPRESSION\n",
    "def F(x1, x2, x3, y1, y2, y3, r_21, r_31, u):\n",
    "    x0= u[0]\n",
    "    y0= u[1]\n",
    "    return np.array([2*(x0**2 + y0**2 - x0*x2 -x0*x3 -y0*y2 -y0*y3)+ x2**2+ x3**2, \n",
    "                 y2**2 + y3**2 -(r_21**2+r_31**2)*(x0**2+y0**2-2*(x0*x1+y0*y1)\n",
    "                                                + x1**2 + y1**2)])\n",
    "# JACOBIAN OF THE TRIANGULARIZATION EXPRESSION\n",
    "def J(x1, x2, x3, y1, y2, y3,  r_21, r_31, u):\n",
    "    x0= u[0]\n",
    "    y0= u[1]\n",
    "    return np.array([[2*(2*x0-x2-x3), 2*(2*y0-y2-y3)], \n",
    "                    [-(r_21**2+r_31**2)*(2*x0-2*x1), -(r_21**2+r_31**2)*(2*y0-2*y1)]])\n",
    "\n",
    "def F1(x1, x2, x3, y1, y2, y3, t23, t12, t31, u):\n",
    "    x0= u[0]\n",
    "    y0= u[1]\n",
    "    d1= ((x1-x0)**2+(y1-y0)**2)**(1/2)\n",
    "    d2= ((x2-x0)**2+(y2-y0)**2)**(1/2)\n",
    "    d3= ((x3-x0)**2+(y3-y0)**2)**(1/2)\n",
    "    return np.array([t23*(d1-d2)-t12*(d2-d3)**2+(t31*(d2-d3)-t23*(d3-d1))**2,(t12*(d3-d1)-t31*(d1-d2))**2])\n",
    "\n",
    "def J1(x1, x2, x3, y1, y2, y3, t23, t12, t31, u):\n",
    "    x0= u[0]\n",
    "    y0= u[1]\n",
    "    d1= ((x1-x0)**2+(y1-y0)**2)**(1/2)\n",
    "    d2= ((x2-x0)**2+(y2-y0)**2)**(1/2)\n",
    "    d3= ((x3-x0)**2+(y3-y0)**2)**(1/2)    \n",
    "    return np.array([[2*((t23*((x2-x0)/d2-(x1-x0)/d1))-t12*((x1-x0)/d3 - (x2-x0)/d2))*(t23*(d1-d2)-t12*(d2-d3)),\n",
    "                      2*(((t23*(y2-y0)/d2 - (y1-y0)/d1))- t12*(((y3-y0)/d3)-(y2-y0)/d2))*(t23*(d1-d2)-t12*(d2-d3))+\n",
    "                      2*((t31*((x3-x0)/d3 - (x2-x0)/d2))- t23*((x1-x0)/d1-(x3-x0)/d3))*(t31*(d2-d3)-t23*(d3-d1))+\n",
    "                     +2*(((t31*(y3-y0)/d3 - (y2-y0)/d2))- t23*(((y1-y0)/d1)-(y3-y0)/d3))*(t31*(d2-d3)-t23*(d3-d1))], \n",
    "                     [2*((t12*((x1-x0)/d1-(x3-x0)/d3))-t31*((x2-x0)/d2 - (x1-x0)/d1))*(t12*(d3-d1)-t31*(d1-d2)),\n",
    "                      2*((t12*((y1-y0)/d1-(y3-y0)/d3))-t31*((y2-y0)/d2 - (y1-y0)/d1))*(t12*(d3-d1)-t31*(d1-d2))]])\n",
    "   \n",
    "def SourceLoc(s1,s2,s3,u,x1,x2,x3,y1,y2,y3,t12,t23,t31,rtol,maxit,epsilon,verbose):\n",
    "    #############################################################################################################\n",
    "    # MODULE FOR SOURCE LOCALIZATION \n",
    "    # This is my version of fsolve_newton() originally developed by Jed Brown (https://github.com/cucs-numpde/class)\n",
    "    # This is the routine that will do the source localization given three sensor signals\n",
    "    #############################################################################################################\n",
    "    u0= u.copy()\n",
    "    \n",
    "    # I will be using the cross correlation to get the time delay of the signals\n",
    "  #  r_21 = signal.correlate(s1,s2, mode='same')/(360*400)\n",
    "  #  r_31 = signal.correlate(s1,s3,mode='same')/(360*400)\n",
    "    \n",
    "\n",
    "    \n",
    "    Fu= F1(x1, x2, x3, y1, y2, y3, t23, t12, t31, u)\n",
    "    JJ= J1(x1, x2, x3, y1, y2, y3, t23, t12, t31, u)\n",
    "    \n",
    "   # Fu= F(x1, x2, x3, y1, y2, y3, r_21, r_31, u)\n",
    "   # JJ= J(x1, x2, x3, y1, y2, y3, r_21, r_31, u)\n",
    "    \n",
    "    norm0= np.linalg.norm(Fu)\n",
    "    enorm_last= np.linalg.norm(u - np.array([1,1],dtype= np.float64))\n",
    "    for i in range(maxit):\n",
    "        \n",
    "        def Ju_fd(v): # Preconditioning the Jacobian\n",
    "            return (F1(x1, x2, x3, y1, y2, y3, t23, t12, t31, u + epsilon*v)  - \n",
    "                F1(x1, x2, x3, y1, y2, y3, t23, t12, t31, u)) / epsilon\n",
    "    \n",
    "        Ju = splinalg.LinearOperator((len(Fu),len(u)), matvec=Ju_fd)\n",
    "    \n",
    "        du, info = splinalg.gmres(Ju, Fu)\n",
    "    \n",
    "        if info != 0:\n",
    "            raise RuntimeError('GMRES failed to converge: {:d}'.format(info))\n",
    "        \n",
    "        u -= du\n",
    "\n",
    "        Fu= F1(x1, x2, x3, y1, y2, y3, t23, t12, t31, u)\n",
    "        norm= np.linalg.norm(Fu)\n",
    "        \n",
    "        if verbose:\n",
    "            enorm= np.linalg.norm(u - np.array([1,1]))\n",
    "            print('Newton {:d} anorm {:6.2e} rnorm {:6.2e} eratio {:6.2f}'.\n",
    "                  format(i+1, norm, norm/norm0, enorm/enorm_last**2))\n",
    "            enorm_last= enorm\n",
    "        if norm < rtol*norm0:\n",
    "            break\n",
    "        if np.isnan(norm):\n",
    "            raise RuntimeError('Newton Raphson failed to converge: {:d}'.format(info)) \n",
    "    return u,i\n",
    "\n",
    "def Breeding(all_sensors, n):\n",
    "    #This function will be called by each sensor every time there is an event in order\n",
    "    #to be paired with two of the fittest sensors to make the guess of the source localization\n",
    "\n",
    "    sensordata1, sensordata2, sensordata3, sensordata4, sensordata5, sensordata6= all_sensors\n",
    "   \n",
    "    listing= np.arange(len(all_sensors))\n",
    "    listing= np.delete(listing, 0, n)\n",
    "    \n",
    "    fitness= np.array(all_sensors)\n",
    "    fitness= np.delete(fitness, 0, n)\n",
    "    fitness= fitness.astype(np.float) #I will put that fitness into a probability density function\n",
    "    while np.count_nonzero(fitness)==1:\n",
    "        fitness[np.random.randint(1,len(fitness))]= 10.0\n",
    "    p=fitness/sum(fitness)\n",
    "    \n",
    "    pair= np.random.choice(listing,2, replace=False, p = p) \n",
    "    \n",
    "    return pair     "
   ]
  },
  {
   "cell_type": "code",
   "execution_count": 95,
   "metadata": {
    "scrolled": false
   },
   "outputs": [
    {
     "name": "stdout",
     "output_type": "stream",
     "text": [
      "[  4.16666663  10.00000027]\n",
      "[ 7.49999952  5.00000095]\n",
      "[ 7.49999963  5.00000046]\n",
      "[ 7.49999963  5.00000051]\n",
      "[ 7.49999978  5.00000038]\n",
      "[ 14.16667035   4.99999758]\n",
      "[ 7.49999951  5.00000097]\n",
      "[ 7.50000442  9.99999729]\n",
      "[  4.16666652  10.00000043]\n",
      "[  7.49999997  10.00000029]\n",
      "[ 7.50000053  9.99999993]\n"
     ]
    },
    {
     "data": {
      "text/plain": [
       "<matplotlib.figure.Figure at 0x10a2aec50>"
      ]
     },
     "metadata": {},
     "output_type": "display_data"
    },
    {
     "data": {
      "image/png": "[encoded data removed]",
      "text/plain": [
       "<matplotlib.figure.Figure at 0x10a7a3f28>"
      ]
     },
     "metadata": {},
     "output_type": "display_data"
    },
    {
     "data": {
      "image/png": "[encoded data removed]",
      "text/plain": [
       "<matplotlib.figure.Figure at 0x10a787ef0>"
      ]
     },
     "metadata": {},
     "output_type": "display_data"
    },
    {
     "data": {
      "text/plain": [
       "<matplotlib.figure.Figure at 0x10aad0710>"
      ]
     },
     "metadata": {},
     "output_type": "display_data"
    },
    {
     "data": {
      "text/plain": [
       "<matplotlib.figure.Figure at 0x10a74cf98>"
      ]
     },
     "metadata": {},
     "output_type": "display_data"
    },
    {
     "data": {
      "text/plain": [
       "<matplotlib.figure.Figure at 0x10a5c8c50>"
      ]
     },
     "metadata": {},
     "output_type": "display_data"
    },
    {
     "data": {
      "text/plain": [
       "<matplotlib.figure.Figure at 0x10a77c128>"
      ]
     },
     "metadata": {},
     "output_type": "display_data"
    },
    {
     "data": {
      "text/plain": [
       "<matplotlib.figure.Figure at 0x1085a9240>"
      ]
     },
     "metadata": {},
     "output_type": "display_data"
    },
    {
     "data": {
      "text/plain": [
       "<matplotlib.figure.Figure at 0x10af3f358>"
      ]
     },
     "metadata": {},
     "output_type": "display_data"
    },
    {
     "data": {
      "image/png": "[encoded data removed]",
      "text/plain": [
       "<matplotlib.figure.Figure at 0x10ab781d0>"
      ]
     },
     "metadata": {},
     "output_type": "display_data"
    },
    {
     "data": {
      "image/png": "[encoded data removed]",
      "text/plain": [
       "<matplotlib.figure.Figure at 0x10a7292b0>"
      ]
     },
     "metadata": {},
     "output_type": "display_data"
    }
   ],
   "source": [
    "f= 'Data1st.txt' #just importing data from touch in a single point with different forces\n",
    "# This dataset has the peculiarity that I only touched the same spot ten times, therefore, my estimations should\n",
    "# be close to those coordinates.\n",
    "window_size= 1000\n",
    "sampling_frequency= 400 #Hz\n",
    "Window1= deque([])\n",
    "Window2= deque([])\n",
    "Window3= deque([])\n",
    "Window4= deque([])\n",
    "Window5= deque([])\n",
    "Window6= deque([])\n",
    "j=0\n",
    "# Each line is a time stamp. \n",
    "# The sampling rate at which this data was taken is 400 Hz and the goal is 1kHz\n",
    "right1=0\n",
    "right2=0\n",
    "right3=0\n",
    "right4=0\n",
    "right5=0\n",
    "right6=0\n",
    "\n",
    "#im = pyplot.imread('sensors.png')\n",
    "#implot = pyplot.imshow(im)\n",
    "pyplot.figure()\n",
    "with open(f) as file: #this loop will be replaced by some pyserial readline instruction if a life demo were to be done\n",
    "    for line in file:\n",
    "        data, timestamp = line.split(\"-\")\n",
    "        Sensors= data.split(\",\")\n",
    "        \n",
    "        #Because this is a simulation of the \"big picture\", I am going to use 6 deques:\n",
    "        Sensors1=Sensors[0]\n",
    "        Sensors2=Sensors[1]\n",
    "        Sensors3=Sensors[2]\n",
    "        Sensors4=Sensors[3]\n",
    "        Sensors5=Sensors[4]\n",
    "        Sensors6=Sensors[5]\n",
    "        \n",
    "        if j<=window_size:    \n",
    "            Window1.append(Sensors1)\n",
    "            Window2.append(Sensors2)\n",
    "            Window3.append(Sensors3)\n",
    "            Window4.append(Sensors4)\n",
    "            Window5.append(Sensors5)\n",
    "            Window6.append(Sensors6)\n",
    "            j= j+1\n",
    "        else:\n",
    "            Window1.append(Sensors1)\n",
    "            Window2.append(Sensors2)\n",
    "            Window3.append(Sensors3)\n",
    "            Window4.append(Sensors4)\n",
    "            Window5.append(Sensors5)\n",
    "            Window6.append(Sensors6)\n",
    "            Window1.popleft()\n",
    "            Window2.popleft()\n",
    "            Window3.popleft()\n",
    "            Window4.popleft()\n",
    "            Window5.popleft()\n",
    "            Window6.popleft()  \n",
    "            \n",
    "# Now that the windows are ready, I will send them to the Event function and if most of the sensors agree\n",
    "# that there is an event, then the breeding pairing will actuate\n",
    "\n",
    "        if j>= window_size:\n",
    "            yesno1, right1, sensdata1= Event(Window1, right1)\n",
    "            sensdata2= Window2[-1]\n",
    "            sensdata3= Window3[-1]\n",
    "            sensdata4= Window4[-1]\n",
    "            sensdata5= Window5[-1]\n",
    "            sensdata6= Window6[-1]\n",
    "  \n",
    "            if yesno1==1:\n",
    "                listsens= (sensdata1, sensdata2, sensdata3, sensdata4, sensdata5, sensdata6)\n",
    "                pair1= Breeding(listsens, 0) #sensor1 will start at 0\n",
    "                x1= Hash[1][0]\n",
    "                y1= Hash[1][1]\n",
    "                x2= Hash[pair1[0]+1][0]\n",
    "                y2= Hash[pair1[0]+1][1]\n",
    "                x3= Hash[pair1[1]+1][0]\n",
    "                y3= Hash[pair1[1]+1][1]\n",
    "                s1= sensdata1\n",
    "                s2= listsens[pair1[0]]\n",
    "                s3= listsens[pair1[1]]\n",
    "                t12= np.max(signal.correlate(np.asarray(listsens[0], dtype=np.float64),np.asarray(listsens[pair1[0]], dtype=np.float64), mode='full'))\n",
    "                t23= np.max(signal.correlate(np.asarray(listsens[pair1[0]], dtype=np.float64),np.asarray(listsens[pair1[1]], dtype=np.float64), mode='full'))\n",
    "                t31= np.max(signal.correlate(np.asarray(listsens[pair1[1]], dtype=np.float64),np.asarray(listsens[0], np.float64), mode='full'))\n",
    "                \n",
    "                u,i= SourceLoc(float(s1),float(s2),float(s3),[.3,.3],x1,x2,x3,y1,y2,y3,t12,t23,t31,rtol=1e-15,maxit=500,\n",
    "                               epsilon=1e-4,verbose= False)\n",
    "                \n",
    "                # put a red dot, size 40, at 2 locations:\n",
    "                pyplot.scatter(u[0], u[1], c='k', s=40)\n",
    "                 \n",
    "                pyplot.xlim(xmin=-5)\n",
    "                pyplot.xlim(xmax= 19)\n",
    "                pyplot.ylim(ymin= -5)\n",
    "                pyplot.ylim(ymax= 7)\n",
    "                print(u)  \n",
    "                \n",
    "pyplot.scatter(2.5, 2, c='r', s=40)          \n",
    "pyplot.show()\n"
   ]
  },
  {
   "cell_type": "markdown",
   "metadata": {
    "collapsed": true
   },
   "source": [
    "## What does order of accuracy mean in this context?"
   ]
  },
  {
   "cell_type": "markdown",
   "metadata": {},
   "source": [
    "The means to solve this problem was the Newton Raphson algorithm. Newton Raphson's essence is to solve a complicated equation by optimizing an expression. However, it is unknown whether the optimization of this expression is actually the solution to the problem or not. "
   ]
  },
  {
   "cell_type": "markdown",
   "metadata": {},
   "source": [
    "** Equations in the case of an anisotropic medium or cylindrical coordinates **\n"
   ]
  },
  {
   "cell_type": "markdown",
   "metadata": {},
   "source": [
    "In the case of an anisotropic medium, the time delay would not be linear. This means that the shear waves would split. These equation must be then solved in two steps: one step to solve for the nonlinear time delay of the propagating wave and another one to solve for the triangularization. \n",
    "\n",
    "In the case of a spherical/cylindrical coordinate system, one can either approximate the solution as if they were a flat plate by sacrificing accuracy or one can also use FEM in order to discretize the grid in a manner that it can be later assembled in a way the solutions are in the corresponding symmetry of the problem. "
   ]
  },
  {
   "cell_type": "markdown",
   "metadata": {
    "collapsed": true
   },
   "source": [
    "** Eikonal Equation **"
   ]
  },
  {
   "cell_type": "markdown",
   "metadata": {},
   "source": [
    "For anisotropic media, the time delay problem can be also interpreted as a shortest path problem through the Eikonal Equation, which takes the form of:\n",
    "\n",
    "\\begin{equation}\n",
    "|\\nabla u|= \\frac{1}{f(x)}\n",
    "\\end{equation}\n",
    "\n",
    "http://iopscience.iop.org.colorado.idm.oclc.org/article/10.1209/0295-5075/9/6/003/pdf\n",
    "\n",
    "where $f(x)$ is a function that involves the wave speed."
   ]
  },
  {
   "cell_type": "markdown",
   "metadata": {},
   "source": [
    "The weak form for this equation is simple, but the right hand side has to be a term that involves the wave speed in that material. If we make a manufactured solution to that equation and solve it using the FD2D notebook's solution, we are left with two different solutions for when the gradient gives a positive value and when the gradient gives a negative value or we can just use abs() after computing the gradient. Either way makes use of that solution in the notebook."
   ]
  },
  {
   "cell_type": "code",
   "execution_count": 14,
   "metadata": {},
   "outputs": [
    {
     "data": {
      "image/png": "[encoded data removed]",
      "text/plain": [
       "<matplotlib.figure.Figure at 0x10b4ea470>"
      ]
     },
     "metadata": {},
     "output_type": "display_data"
    }
   ],
   "source": [
    "############################\n",
    "#   BORROWED FROM FD2D     #\n",
    "############################\n",
    "\n",
    "def laplacian2dEikonal(h, f, g0):\n",
    "    m = int(1/h + 1)  # Number of elements in terms of nominal grid spacing h\n",
    "    h = 1 / (m-1)     # Actual grid spacing\n",
    "    c = np.linspace(-1, 11, m)\n",
    "    y, x = np.meshgrid(c, c)\n",
    "    u0 = g0(x, y).flatten()\n",
    "    rhs = 1/f(x, y).flatten()\n",
    "    A = sp.lil_matrix((m*m, m*m))\n",
    "    def idx(i, j):\n",
    "        return i*m + j\n",
    "    mask = np.zeros_like(x, dtype=int)\n",
    "    mask[1:-1,1:-1] = 1\n",
    "    mask = mask.flatten()\n",
    "    for i in range(m):\n",
    "        for j in range(m):\n",
    "            row = idx(i, j)\n",
    "            stencili = np.array([idx(*pair) for pair in \n",
    "                                    [(i-1, j), (i, j-1),\n",
    "                                     (i, j),\n",
    "                                     (i, j+1), (i+1, j)]])\n",
    "            stencilw = 1/h**2 * np.array([-1, -1, 4, -1, -1])\n",
    "            if mask[row] == 0: # Dirichlet boundary\n",
    "                A[row, row] = 1\n",
    "                rhs[row] = u0[row]\n",
    "            else:\n",
    "                smask = mask[stencili]\n",
    "                cols = stencili[smask == 1]\n",
    "                A[row, cols] = stencilw[smask == 1]\n",
    "                bdycols = stencili[smask == 0]\n",
    "                rhs[row] -= stencilw[smask == 0] @ u0[bdycols]\n",
    "    return x, y, A.tocsr(), rhs\n",
    "\n",
    "x, y, A, rhs = laplacian2dEikonal(.15, lambda x,y: 0*x+1, lambda x,y: 0*x)\n",
    "\n",
    "pyplot.spy(A);\n",
    "sp.linalg.norm(A - A.T)\n",
    "pyplot.show()"
   ]
  },
  {
   "cell_type": "code",
   "execution_count": 16,
   "metadata": {},
   "outputs": [
    {
     "name": "stdout",
     "output_type": "stream",
     "text": [
      "(51, 51) 33.7162304931\n"
     ]
    },
    {
     "data": {
      "image/png": "[encoded data removed]",
      "text/plain": [
       "<matplotlib.figure.Figure at 0x10bbdd438>"
      ]
     },
     "metadata": {},
     "output_type": "display_data"
    }
   ],
   "source": [
    "class mms0:\n",
    "    def u(x, y):\n",
    "        return x*np.exp(-x)*np.tanh(y)\n",
    "    def grad_u(x, y):\n",
    "        return np.array([(1 - x)*np.exp(-x)*np.tanh(y),\n",
    "                            x*np.exp(-x)*(1 - np.tanh(y)**2)])\n",
    "    def laplacian_u(x, y):\n",
    "        return ((2 - x)*np.exp(-x)*np.tanh(y)\n",
    "                - 2*x*np.exp(-x)*(np.tanh(y)**2 - 1)*np.tanh(y))\n",
    "    def grad_u_dot_normal(x, y, n):\n",
    "        return grad_u(x, y) @ n\n",
    "\n",
    "x, y, A, rhs = laplacian2dEikonal(.02, mms0.laplacian_u, mms0.u)\n",
    "u = sp.linalg.spsolve(A, rhs).reshape(x.shape)\n",
    "print(u.shape, np.linalg.norm((u - mms0.u(x,y)).flatten(), np.inf))\n",
    "pyplot.contourf(x, y, u)\n",
    "pyplot.colorbar()\n",
    "pyplot.title('Distibution of the Time Delay Across the Board')\n",
    "#pyplot.figure()\n",
    "#pyplot.contourf(x, y, u - mms0.u(x, y))\n",
    "#pyplot.colorbar()\n",
    "#pyplot.title('Error');\n",
    "pyplot.show()"
   ]
  },
  {
   "cell_type": "code",
   "execution_count": null,
   "metadata": {
    "collapsed": true
   },
   "outputs": [],
   "source": []
  }
 ],
 "metadata": {
  "kernelspec": {
   "display_name": "Python 3",
   "language": "python",
   "name": "python3"
  },
  "language_info": {
   "codemirror_mode": {
    "name": "ipython",
    "version": 3
   },
   "file_extension": ".py",
   "mimetype": "text/x-python",
   "name": "python",
   "nbconvert_exporter": "python",
   "pygments_lexer": "ipython3",
   "version": "3.6.0"
  }
 },
 "nbformat": 4,
 "nbformat_minor": 2
}
