{
 "cells": [
  {
   "cell_type": "markdown",
   "metadata": {},
   "source": [
    "## PROPOSAL: Distributed Source Localization on a Composite with Embedded PZT sensors"
   ]
  },
  {
   "cell_type": "markdown",
   "metadata": {},
   "source": [
    "The project that I am about to start consists of impact source localization in a test bed made out of composite with a grid of PZT sensors that were installed in it during manufacturing. The picture below depicts how the board looks like in real life. \n",
    "\n",
    "<img src=\"pzts.jpg\" alt=\"Drawing\" style=\"width: 400px;\"/>\n",
    "\n",
    "Each PZT sensor is planned to be connected wirelessly using Particle Photons. For this project , I was planning to implement a distributed source localization algorithm similar to [the one in this reference](http://ieeexplore.ieee.org.colorado.idm.oclc.org/stamp/stamp.jsp?arnumber=7159042). \n",
    "\n",
    "\n"
   ]
  },
  {
   "cell_type": "code",
   "execution_count": null,
   "metadata": {
    "collapsed": true
   },
   "outputs": [],
   "source": []
  }
 ],
 "metadata": {
  "kernelspec": {
   "display_name": "Python 3",
   "language": "python",
   "name": "python3"
  },
  "language_info": {
   "codemirror_mode": {
    "name": "ipython",
    "version": 3
   },
   "file_extension": ".py",
   "mimetype": "text/x-python",
   "name": "python",
   "nbconvert_exporter": "python",
   "pygments_lexer": "ipython3",
   "version": "3.6.0"
  }
 },
 "nbformat": 4,
 "nbformat_minor": 2
}
